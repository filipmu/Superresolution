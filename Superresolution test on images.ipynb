{
 "cells": [
  {
   "cell_type": "markdown",
   "metadata": {},
   "source": [
    "# Apply AI Superresolution to selected images\n",
    "\n",
    "\n"
   ]
  },
  {
   "cell_type": "markdown",
   "metadata": {},
   "source": [
    "# Project Documentation"
   ]
  },
  {
   "cell_type": "code",
   "execution_count": 1,
   "metadata": {},
   "outputs": [],
   "source": [
    "\n",
    "from pathlib import Path\n",
    "import os\n",
    "\n",
    "\n",
    "project_base = \"/media/SSD/superres/\"\n",
    "results_folder = \"Results\"\n",
    "data_folder = \"video_data\"\n",
    "model_folder = \"checkpoint\"\n",
    "\n",
    "model_name_base = \"MWCNNV2\"\n"
   ]
  },
  {
   "cell_type": "markdown",
   "metadata": {},
   "source": [
    "## Experiment documentation"
   ]
  },
  {
   "cell_type": "code",
   "execution_count": 2,
   "metadata": {},
   "outputs": [
    {
     "data": {
      "application/javascript": [
       "var nb = IPython.notebook;\n",
       "var kernel = IPython.notebook.kernel;\n",
       "var command = \"NOTEBOOK_FULL_PATH = '\" + nb.base_url + nb.notebook_path + \"'\";\n",
       "kernel.execute(command);\n"
      ],
      "text/plain": [
       "<IPython.core.display.Javascript object>"
      ]
     },
     "metadata": {},
     "output_type": "display_data"
    }
   ],
   "source": [
    "%%javascript\n",
    "var nb = IPython.notebook;\n",
    "var kernel = IPython.notebook.kernel;\n",
    "var command = \"NOTEBOOK_FULL_PATH = '\" + nb.base_url + nb.notebook_path + \"'\";\n",
    "kernel.execute(command);"
   ]
  },
  {
   "cell_type": "code",
   "execution_count": 3,
   "metadata": {},
   "outputs": [
    {
     "name": "stdout",
     "output_type": "stream",
     "text": [
      "NOTEBOOK_FULL_PATH:\n",
      " /SSD_link/superres/Superresolution test on images.ipynb\n"
     ]
    }
   ],
   "source": [
    "print(\"NOTEBOOK_FULL_PATH:\\n\", NOTEBOOK_FULL_PATH)"
   ]
  },
  {
   "cell_type": "code",
   "execution_count": 4,
   "metadata": {},
   "outputs": [
    {
     "name": "stdout",
     "output_type": "stream",
     "text": [
      "/SSD_link/superres/Superresolution test on images.ipynb\n",
      "/media/SSD/superres/Results/Superresolution test on images\n"
     ]
    }
   ],
   "source": [
    "nb_path = Path(NOTEBOOK_FULL_PATH)\n",
    "print(nb_path)\n",
    "\n",
    "# Make result folder if it does not exist\n",
    "result_path = Path(project_base, results_folder , nb_path.stem )\n",
    "print(result_path)\n",
    "os.makedirs(result_path, exist_ok=True)"
   ]
  },
  {
   "cell_type": "code",
   "execution_count": 5,
   "metadata": {},
   "outputs": [
    {
     "name": "stdout",
     "output_type": "stream",
     "text": [
      "/media/SSD/superres/checkpoint\n"
     ]
    }
   ],
   "source": [
    "model_out_path=Path(project_base)/model_folder\n",
    "print(model_out_path)\n"
   ]
  },
  {
   "cell_type": "code",
   "execution_count": 6,
   "metadata": {},
   "outputs": [],
   "source": [
    "\n",
    "#%reload_ext autoreload\n",
    "#%autoreload 2\n",
    "#%matplotlib inline\n",
    "\n",
    "\n",
    "import cv2 \n",
    "import numpy as np\n",
    "import subprocess as sp\n",
    "import time\n",
    "from tqdm import tqdm, trange\n",
    "import torch\n",
    "from torch.autograd import Variable\n",
    "import torch.backends.cudnn as cudnn\n",
    "import torch.nn as nn\n",
    "import torch.optim as optim\n",
    "\n",
    "from torch.utils.data import DataLoader\n",
    "import matplotlib.pyplot as plt\n",
    "\n",
    "from torchvision.transforms import RandomHorizontalFlip,ColorJitter\n",
    "from torchvision.transforms import Compose, CenterCrop, ToTensor, Resize, Grayscale,ToPILImage,Normalize\n",
    "\n",
    "from torchvision.transforms.functional import hflip\n",
    "\n",
    "import random\n",
    "\n",
    "import lpips #https://github.com/richzhang/PerceptualSimilarity"
   ]
  },
  {
   "cell_type": "code",
   "execution_count": 7,
   "metadata": {},
   "outputs": [],
   "source": [
    "import torch.utils.data as data\n",
    "\n",
    "from os import listdir\n",
    "from os.path import join\n",
    "from PIL import Image, ImageFilter\n",
    "import numpy as np\n",
    "import torchvision as vision\n",
    "\n",
    "import numbers\n",
    "\n",
    "torch.cuda.manual_seed(42)"
   ]
  },
  {
   "cell_type": "markdown",
   "metadata": {},
   "source": [
    "# MWCNN"
   ]
  },
  {
   "cell_type": "code",
   "execution_count": 8,
   "metadata": {},
   "outputs": [],
   "source": [
    "import common\n",
    "import torch.nn as nn\n",
    "\n",
    "def rgb_to_grayscale(img, num_output_channels = 1):\n",
    "    \n",
    "\n",
    "    r, g, b = img.unbind(dim=-3)\n",
    "    # This implementation closely follows the TF one:\n",
    "    # https://github.com/tensorflow/tensorflow/blob/v2.3.0/tensorflow/python/ops/image_ops_impl.py#L2105-L2138\n",
    "    l_img = (0.2989 * r + 0.587 * g + 0.114 * b).to(img.dtype)\n",
    "    l_img = l_img.unsqueeze(dim=-3)\n",
    "\n",
    "    if num_output_channels == 3:\n",
    "        return l_img.expand(img.shape)\n",
    "\n",
    "    return l_img\n",
    "\n",
    "class MWCNN(nn.Module):\n",
    "    def __init__(self, n_feats, nColor , conv=common.default_conv):\n",
    "        super(MWCNN, self).__init__()\n",
    "        kernel_size = 3\n",
    "        self.scale_idx = 0\n",
    "\n",
    "        act = nn.ReLU(True)\n",
    "\n",
    "        self.DWT = common.DWT()\n",
    "        self.IWT = common.IWT()\n",
    "\n",
    "        n = 1\n",
    "        m_head = [common.BBlock(conv, nColor, n_feats, kernel_size, act=act)]\n",
    "        d_l0 = []\n",
    "        d_l0.append(common.DBlock_com1(conv, n_feats, n_feats, kernel_size, act=act, bn=False))\n",
    "\n",
    "\n",
    "        d_l1 = [common.BBlock(conv, n_feats * 4, n_feats * 2, kernel_size, act=act, bn=False)]\n",
    "        d_l1.append(common.DBlock_com1(conv, n_feats * 2, n_feats * 2, kernel_size, act=act, bn=False))\n",
    "\n",
    "        d_l2 = []\n",
    "        d_l2.append(common.BBlock(conv, n_feats * 8, n_feats * 4, kernel_size, act=act, bn=False))\n",
    "        d_l2.append(common.DBlock_com1(conv, n_feats * 4, n_feats * 4, kernel_size, act=act, bn=False))\n",
    "        pro_l3 = []\n",
    "        pro_l3.append(common.BBlock(conv, n_feats * 16, n_feats * 8, kernel_size, act=act, bn=False))\n",
    "        pro_l3.append(common.DBlock_com(conv, n_feats * 8, n_feats * 8, kernel_size, act=act, bn=False))\n",
    "        pro_l3.append(common.DBlock_inv(conv, n_feats * 8, n_feats * 8, kernel_size, act=act, bn=False))\n",
    "        pro_l3.append(common.BBlock(conv, n_feats * 8, n_feats * 16, kernel_size, act=act, bn=False))\n",
    "\n",
    "        i_l2 = [common.DBlock_inv1(conv, n_feats * 4, n_feats * 4, kernel_size, act=act, bn=False)]\n",
    "        i_l2.append(common.BBlock(conv, n_feats * 4, n_feats * 8, kernel_size, act=act, bn=False))\n",
    "\n",
    "        i_l1 = [common.DBlock_inv1(conv, n_feats * 2, n_feats * 2, kernel_size, act=act, bn=False)]\n",
    "        i_l1.append(common.BBlock(conv, n_feats * 2, n_feats * 4, kernel_size, act=act, bn=False))\n",
    "\n",
    "        i_l0 = [common.DBlock_inv1(conv, n_feats, n_feats, kernel_size, act=act, bn=False)]\n",
    "\n",
    "        m_tail = [conv(n_feats, nColor, kernel_size)]\n",
    "\n",
    "        self.head = nn.Sequential(*m_head)\n",
    "        self.d_l2 = nn.Sequential(*d_l2)\n",
    "        self.d_l1 = nn.Sequential(*d_l1)\n",
    "        self.d_l0 = nn.Sequential(*d_l0)\n",
    "        self.pro_l3 = nn.Sequential(*pro_l3)\n",
    "        self.i_l2 = nn.Sequential(*i_l2)\n",
    "        self.i_l1 = nn.Sequential(*i_l1)\n",
    "        self.i_l0 = nn.Sequential(*i_l0)\n",
    "        self.tail = nn.Sequential(*m_tail)\n",
    "\n",
    "    def forward(self, x):\n",
    "        x = rgb_to_grayscale(x)\n",
    "        x0 = self.d_l0(self.head(x))\n",
    "        x1 = self.d_l1(self.DWT(x0))\n",
    "        x2 = self.d_l2(self.DWT(x1))\n",
    "        x_ = self.IWT(self.pro_l3(self.DWT(x2))) + x2\n",
    "        x_ = self.IWT(self.i_l2(x_)) + x1\n",
    "        x_ = self.IWT(self.i_l1(x_)) + x0\n",
    "        x = self.tail(self.i_l0(x_)) + x\n",
    "\n",
    "        return x\n",
    "\n",
    "    def set_scale(self, scale_idx):\n",
    "        self.scale_idx = scale_idx"
   ]
  },
  {
   "cell_type": "code",
   "execution_count": 9,
   "metadata": {},
   "outputs": [
    {
     "data": {
      "text/plain": [
       "MWCNN(\n",
       "  (DWT): DWT()\n",
       "  (IWT): IWT()\n",
       "  (head): Sequential(\n",
       "    (0): BBlock(\n",
       "      (body): Sequential(\n",
       "        (0): Conv2d(1, 64, kernel_size=(3, 3), stride=(1, 1), padding=(1, 1))\n",
       "        (1): ReLU(inplace=True)\n",
       "      )\n",
       "    )\n",
       "  )\n",
       "  (d_l2): Sequential(\n",
       "    (0): BBlock(\n",
       "      (body): Sequential(\n",
       "        (0): Conv2d(512, 256, kernel_size=(3, 3), stride=(1, 1), padding=(1, 1))\n",
       "        (1): ReLU(inplace=True)\n",
       "      )\n",
       "    )\n",
       "    (1): DBlock_com1(\n",
       "      (body): Sequential(\n",
       "        (0): Conv2d(256, 256, kernel_size=(3, 3), stride=(1, 1), padding=(2, 2), dilation=(2, 2))\n",
       "        (1): ReLU(inplace=True)\n",
       "        (2): Conv2d(256, 256, kernel_size=(3, 3), stride=(1, 1), padding=(1, 1))\n",
       "        (3): ReLU(inplace=True)\n",
       "      )\n",
       "    )\n",
       "  )\n",
       "  (d_l1): Sequential(\n",
       "    (0): BBlock(\n",
       "      (body): Sequential(\n",
       "        (0): Conv2d(256, 128, kernel_size=(3, 3), stride=(1, 1), padding=(1, 1))\n",
       "        (1): ReLU(inplace=True)\n",
       "      )\n",
       "    )\n",
       "    (1): DBlock_com1(\n",
       "      (body): Sequential(\n",
       "        (0): Conv2d(128, 128, kernel_size=(3, 3), stride=(1, 1), padding=(2, 2), dilation=(2, 2))\n",
       "        (1): ReLU(inplace=True)\n",
       "        (2): Conv2d(128, 128, kernel_size=(3, 3), stride=(1, 1), padding=(1, 1))\n",
       "        (3): ReLU(inplace=True)\n",
       "      )\n",
       "    )\n",
       "  )\n",
       "  (d_l0): Sequential(\n",
       "    (0): DBlock_com1(\n",
       "      (body): Sequential(\n",
       "        (0): Conv2d(64, 64, kernel_size=(3, 3), stride=(1, 1), padding=(2, 2), dilation=(2, 2))\n",
       "        (1): ReLU(inplace=True)\n",
       "        (2): Conv2d(64, 64, kernel_size=(3, 3), stride=(1, 1), padding=(1, 1))\n",
       "        (3): ReLU(inplace=True)\n",
       "      )\n",
       "    )\n",
       "  )\n",
       "  (pro_l3): Sequential(\n",
       "    (0): BBlock(\n",
       "      (body): Sequential(\n",
       "        (0): Conv2d(1024, 512, kernel_size=(3, 3), stride=(1, 1), padding=(1, 1))\n",
       "        (1): ReLU(inplace=True)\n",
       "      )\n",
       "    )\n",
       "    (1): DBlock_com(\n",
       "      (body): Sequential(\n",
       "        (0): Conv2d(512, 512, kernel_size=(3, 3), stride=(1, 1), padding=(2, 2), dilation=(2, 2))\n",
       "        (1): ReLU(inplace=True)\n",
       "        (2): Conv2d(512, 512, kernel_size=(3, 3), stride=(1, 1), padding=(3, 3), dilation=(3, 3))\n",
       "        (3): ReLU(inplace=True)\n",
       "      )\n",
       "    )\n",
       "    (2): DBlock_inv(\n",
       "      (body): Sequential(\n",
       "        (0): Conv2d(512, 512, kernel_size=(3, 3), stride=(1, 1), padding=(3, 3), dilation=(3, 3))\n",
       "        (1): ReLU(inplace=True)\n",
       "        (2): Conv2d(512, 512, kernel_size=(3, 3), stride=(1, 1), padding=(2, 2), dilation=(2, 2))\n",
       "        (3): ReLU(inplace=True)\n",
       "      )\n",
       "    )\n",
       "    (3): BBlock(\n",
       "      (body): Sequential(\n",
       "        (0): Conv2d(512, 1024, kernel_size=(3, 3), stride=(1, 1), padding=(1, 1))\n",
       "        (1): ReLU(inplace=True)\n",
       "      )\n",
       "    )\n",
       "  )\n",
       "  (i_l2): Sequential(\n",
       "    (0): DBlock_inv1(\n",
       "      (body): Sequential(\n",
       "        (0): Conv2d(256, 256, kernel_size=(3, 3), stride=(1, 1), padding=(2, 2), dilation=(2, 2))\n",
       "        (1): ReLU(inplace=True)\n",
       "        (2): Conv2d(256, 256, kernel_size=(3, 3), stride=(1, 1), padding=(1, 1))\n",
       "        (3): ReLU(inplace=True)\n",
       "      )\n",
       "    )\n",
       "    (1): BBlock(\n",
       "      (body): Sequential(\n",
       "        (0): Conv2d(256, 512, kernel_size=(3, 3), stride=(1, 1), padding=(1, 1))\n",
       "        (1): ReLU(inplace=True)\n",
       "      )\n",
       "    )\n",
       "  )\n",
       "  (i_l1): Sequential(\n",
       "    (0): DBlock_inv1(\n",
       "      (body): Sequential(\n",
       "        (0): Conv2d(128, 128, kernel_size=(3, 3), stride=(1, 1), padding=(2, 2), dilation=(2, 2))\n",
       "        (1): ReLU(inplace=True)\n",
       "        (2): Conv2d(128, 128, kernel_size=(3, 3), stride=(1, 1), padding=(1, 1))\n",
       "        (3): ReLU(inplace=True)\n",
       "      )\n",
       "    )\n",
       "    (1): BBlock(\n",
       "      (body): Sequential(\n",
       "        (0): Conv2d(128, 256, kernel_size=(3, 3), stride=(1, 1), padding=(1, 1))\n",
       "        (1): ReLU(inplace=True)\n",
       "      )\n",
       "    )\n",
       "  )\n",
       "  (i_l0): Sequential(\n",
       "    (0): DBlock_inv1(\n",
       "      (body): Sequential(\n",
       "        (0): Conv2d(64, 64, kernel_size=(3, 3), stride=(1, 1), padding=(2, 2), dilation=(2, 2))\n",
       "        (1): ReLU(inplace=True)\n",
       "        (2): Conv2d(64, 64, kernel_size=(3, 3), stride=(1, 1), padding=(1, 1))\n",
       "        (3): ReLU(inplace=True)\n",
       "      )\n",
       "    )\n",
       "  )\n",
       "  (tail): Sequential(\n",
       "    (0): Conv2d(64, 1, kernel_size=(3, 3), stride=(1, 1), padding=(1, 1))\n",
       "  )\n",
       ")"
      ]
     },
     "execution_count": 9,
     "metadata": {},
     "output_type": "execute_result"
    }
   ],
   "source": [
    "#model = torch.load(\"/media/SSD/superres/checkpoint/MWCNNV2_epoch_48.pth\")[\"model\"]\n",
    "model = torch.load(\"/media/SSD/superres/checkpoint/MWCNNV2_epoch_24.pth\")[\"model\"]\n",
    "\n",
    "\n",
    "model.cuda()"
   ]
  },
  {
   "cell_type": "code",
   "execution_count": 10,
   "metadata": {},
   "outputs": [],
   "source": [
    "mcombine = model"
   ]
  },
  {
   "cell_type": "markdown",
   "metadata": {},
   "source": [
    "## Convert images"
   ]
  },
  {
   "cell_type": "code",
   "execution_count": 11,
   "metadata": {},
   "outputs": [],
   "source": [
    "from torch.cuda.amp import autocast"
   ]
  },
  {
   "cell_type": "code",
   "execution_count": 12,
   "metadata": {},
   "outputs": [],
   "source": [
    "def cv2_to_batch_tensor(img_bgr):\n",
    "    mn=np.array([0.485, 0.456, 0.406])\n",
    "    std=np.array([0.229, 0.224, 0.225])\n",
    "    im_rgb = cv2.cvtColor(img_bgr, cv2.COLOR_BGR2RGB)\n",
    "    im_rgb = im_rgb/255.0\n",
    "    im_rgb = (im_rgb-mn)/std\n",
    "    tform = im_rgb.transpose(( 2,0, 1))\n",
    "    tform = torch.from_numpy(tform).float()\n",
    "    tform = tform.unsqueeze(0)\n",
    "    return tform\n",
    "\n",
    "def batch_tensor_to_cv2(bt_3ch):\n",
    "    bt_3ch = (bt_3ch*255.0).clamp(0,255)\n",
    "    t_3ch = bt_3ch.squeeze(0)\n",
    "    #t_3ch = t_3ch.cpu()\n",
    "    im_rbg = t_3ch.permute(1,2,0).numpy().astype(np.uint8)\n",
    "    im_bgr = cv2.cvtColor(im_rbg, cv2.COLOR_RGB2BGR)\n",
    "    \n",
    "    return im_bgr\n",
    "\n",
    "def gs_batch_tensor_to_bgr_cv2(bt_1ch, frame):\n",
    "    ##convert greyscale batch tensor to bgr cv2\n",
    "    \n",
    "    bt_1ch = (bt_1ch*255.0).clamp(0,255)\n",
    "    t_1ch = bt_1ch.squeeze(0)\n",
    "    #t_3ch = t_3ch.cpu()\n",
    "    im_h_y = t_1ch.numpy().astype(np.float32)\n",
    "    \n",
    "    im_y, im_b_ycbcr = decolorize_cv(frame) \n",
    "    \n",
    "    im_h_y = im_h_y[0,:,:]\n",
    "\n",
    "    im_h = colorize_cv(im_h_y, im_b_ycbcr)\n",
    "    \n",
    "    return im_h\n"
   ]
  },
  {
   "cell_type": "code",
   "execution_count": 13,
   "metadata": {},
   "outputs": [],
   "source": [
    "from superres_utils import decolorize_cv, colorize_cv, cv_center_crop\n",
    "def superres_image(img_cv,model,factor=1.0,center_crop=None):\n",
    "\n",
    "\n",
    "    \n",
    "\n",
    "    if center_crop is None:\n",
    "        width  = img_cv.shape[1]\n",
    "        height = img_cv.shape[0]\n",
    "        \n",
    "    else:\n",
    "        width,height = center_crop\n",
    "    \n",
    "    \n",
    "    success_flag = False\n",
    "    \n",
    "    print(\"Original:\")\n",
    "    print(\"width=\",width,\"\\nheight=\",height)\n",
    "    \n",
    "    \n",
    "\n",
    "    new_height = int(height*factor)\n",
    "    new_width = int(width*factor)\n",
    "    \n",
    "    print(\"\\nProcessed:\")\n",
    "    print(\"factor:\",factor,\"\\nwidth=\",new_width, \"\\nheight=\",new_height)\n",
    "    \n",
    "   \n",
    "            \n",
    "    #crop img_cv if needed\n",
    "    if center_crop is not None:\n",
    "        img_cv = cv_center_crop(img_cv,(height,width))\n",
    "\n",
    "    if (factor != 1.0):\n",
    "        img_cv = cv2.resize(img_cv, (new_width, new_height), interpolation=cv2.INTER_LANCZOS4)\n",
    "\n",
    "    im_input = cv2_to_batch_tensor(img_cv)\n",
    "\n",
    "\n",
    "    im_input = im_input.cuda()\n",
    "\n",
    "\n",
    "    with torch.no_grad():\n",
    "        with autocast():\n",
    "            mout = model(im_input)  \n",
    "\n",
    "\n",
    "    out=mout.cpu()\n",
    "\n",
    "\n",
    "\n",
    "    im_h = batch_tensor_to_cv2(out)\n",
    "    ##convert from greyscale to color\n",
    "    im_h = gs_batch_tensor_to_bgr_cv2(out,img_cv)\n",
    "\n",
    "\n",
    "    return im_h"
   ]
  },
  {
   "cell_type": "code",
   "execution_count": 14,
   "metadata": {},
   "outputs": [],
   "source": [
    "path = \"/media/SSD/samba/users/Julie1200dpi8bit001.jpg\""
   ]
  },
  {
   "cell_type": "code",
   "execution_count": 33,
   "metadata": {},
   "outputs": [],
   "source": [
    "\n",
    "img = cv2.imread(path)\n",
    "# convert to PIL RGB\n",
    "img = cv2.fastNlMeansDenoisingColored(img,None,15,10,7,21)\n",
    "\n",
    "im_rgb = cv2.cvtColor(img, cv2.COLOR_BGR2RGB)\n",
    "    "
   ]
  },
  {
   "cell_type": "code",
   "execution_count": 34,
   "metadata": {},
   "outputs": [
    {
     "data": {
      "text/plain": [
       "(3264, 4287)"
      ]
     },
     "execution_count": 34,
     "metadata": {},
     "output_type": "execute_result"
    }
   ],
   "source": [
    "im_rgb.shape[0], im_rgb.shape[1]"
   ]
  },
  {
   "cell_type": "code",
   "execution_count": 35,
   "metadata": {},
   "outputs": [],
   "source": [
    "im_rgb = cv_center_crop(im_rgb,(3200,4000))"
   ]
  },
  {
   "cell_type": "code",
   "execution_count": 36,
   "metadata": {},
   "outputs": [],
   "source": [
    "fact=.1"
   ]
  },
  {
   "cell_type": "code",
   "execution_count": 37,
   "metadata": {},
   "outputs": [],
   "source": [
    "im_rgb = cv2.resize(im_rgb, (int(4000*fact),int(3200*fact)), interpolation=cv2.INTER_LANCZOS4)"
   ]
  },
  {
   "cell_type": "code",
   "execution_count": 38,
   "metadata": {},
   "outputs": [
    {
     "name": "stdout",
     "output_type": "stream",
     "text": [
      "Original:\n",
      "width= 400 \n",
      "height= 320\n",
      "\n",
      "Processed:\n",
      "factor: 1 \n",
      "width= 400 \n",
      "height= 320\n"
     ]
    }
   ],
   "source": [
    "res_image = superres_image(img_cv=im_rgb,model=mcombine,factor=1,center_crop=None)"
   ]
  },
  {
   "cell_type": "code",
   "execution_count": 39,
   "metadata": {},
   "outputs": [
    {
     "data": {
      "image/png": "[encoded data removed]",
      "text/plain": [
       "<Figure size 432x288 with 1 Axes>"
      ]
     },
     "metadata": {
      "needs_background": "light"
     },
     "output_type": "display_data"
    }
   ],
   "source": [
    "plt.imshow(res_image)\n",
    "plt.title('my picture')\n",
    "plt.show()"
   ]
  },
  {
   "cell_type": "code",
   "execution_count": 40,
   "metadata": {},
   "outputs": [
    {
     "data": {
      "text/plain": [
       "True"
      ]
     },
     "execution_count": 40,
     "metadata": {},
     "output_type": "execute_result"
    }
   ],
   "source": [
    "cv2.imwrite(\"/media/SSD/samba/users/Julie1200dpi8bit001_scaled_enhanced.jpg\", cv2.cvtColor(res_image, cv2.COLOR_BGR2RGB))"
   ]
  },
  {
   "cell_type": "code",
   "execution_count": 41,
   "metadata": {},
   "outputs": [
    {
     "data": {
      "text/plain": [
       "True"
      ]
     },
     "execution_count": 41,
     "metadata": {},
     "output_type": "execute_result"
    }
   ],
   "source": [
    "cv2.imwrite(\"/media/SSD/samba/users/Julie1200dpi8bit001_scaled.jpg\", cv2.cvtColor(im_rgb, cv2.COLOR_BGR2RGB))"
   ]
  },
  {
   "cell_type": "markdown",
   "metadata": {},
   "source": [
    "# Second approach"
   ]
  },
  {
   "cell_type": "code",
   "execution_count": null,
   "metadata": {},
   "outputs": [],
   "source": [
    "import torch.nn as nn\n",
    "class NEWNet6(nn.Module):\n",
    "    def __init__(self, c1, c2, c3):\n",
    "        super(NEWNet6, self).__init__()   \n",
    "        \n",
    "        self.p1 = nn.Sequential(\n",
    "            nn.Conv2d(in_channels=10, out_channels=c1, kernel_size=3, stride=1, padding=1, bias=False),\n",
    "            nn.PReLU(),\n",
    "            nn.Conv2d(in_channels=c1, out_channels=c1, kernel_size=3, stride=1, padding=1, bias=True),\n",
    "            nn.PReLU(),\n",
    "            nn.Conv2d(in_channels=c1, out_channels=c1, kernel_size=3, stride=1, padding=1, bias=True),\n",
    "            nn.PReLU()\n",
    "        )\n",
    "        \n",
    "        self.p2 = nn.Sequential(\n",
    "            nn.Conv2d(in_channels=c1, out_channels=c2, kernel_size=1, stride=1, padding=0, bias=True),\n",
    "            nn.PReLU(),\n",
    "            nn.Conv2d(in_channels=c2, out_channels=c2, kernel_size=3, stride=1, padding=1, bias=True),\n",
    "            nn.PReLU(),\n",
    "            nn.Conv2d(in_channels=c2, out_channels=c1, kernel_size=1, stride=1, padding=0, bias=True)\n",
    "        )\n",
    "        \n",
    "        self.p3 = nn.Sequential(\n",
    "            nn.Conv2d(in_channels=c1, out_channels=c2, kernel_size=1, stride=1, padding=0, bias=True),\n",
    "            nn.PReLU(),\n",
    "            nn.Conv2d(in_channels=c2, out_channels=c2, kernel_size=3, stride=1, padding=1, bias=True),\n",
    "            nn.PReLU(),\n",
    "            nn.Conv2d(in_channels=c2, out_channels=c1, kernel_size=1, stride=1, padding=0, bias=True)\n",
    "        \n",
    "        \n",
    "        )\n",
    "\n",
    "        \n",
    "        self.prelu = nn.PReLU()\n",
    "        self.convf = nn.Conv2d(in_channels=c1, out_channels=3, kernel_size=3, stride=1, padding=1, bias=True)\n",
    "        \n",
    "                    \n",
    "        \n",
    "        \n",
    "    def forward(self, x0,xm1,xp1, k):    \n",
    "        \n",
    "        residual = x0\n",
    "       \n",
    "        # add insert k as the 10 channel into x, which has 9 channels\n",
    "        one_channel = x0[:,0,:,:].unsqueeze(1)  #use one channel as a template\n",
    "        t1 = torch.ones_like(one_channel.permute(3,2,1,0))  #make a ones tensor like the channel\n",
    "        res = k[:,0]*t1  # multiply by k, so that the batch spreads to the size of an image\n",
    "        res = res.permute(3,2,1,0) # put back in proper order\n",
    "        xk = torch.cat((x0,xm1,xp1,res), dim=1) #append the 10th channel\n",
    "        \n",
    "        \n",
    "        \n",
    "        \n",
    "        xk = self.p1(xk)\n",
    "        skip1 = xk\n",
    "                        \n",
    "        xk = self.p2(xk)\n",
    "        xk = xk.add_(skip1)\n",
    "        skip2 = xk\n",
    "        \n",
    "        xk = self.p3(xk)\n",
    "        xk = xk.add_(skip2)\n",
    "        \n",
    "        xk = self.prelu(xk)\n",
    "        xk = self.convf(xk)\n",
    "        out = torch.add(xk,residual)\n",
    "        return out"
   ]
  },
  {
   "cell_type": "code",
   "execution_count": null,
   "metadata": {},
   "outputs": [],
   "source": [
    "#model = torch.load(\"/media/SSD/superres/checkpoint/NEWCNN7_epoch_69.pth\")[\"model\"]\n",
    "model = torch.load(\"/media/SSD/superres/checkpoint/NEWCNN7_epoch_81.pth\")[\"model\"]\n",
    "\n",
    "\n",
    "\n",
    "\n",
    "#model = NEWNet6(c1=64,c2=128, c3=1024)\n",
    "model.cuda()"
   ]
  },
  {
   "cell_type": "code",
   "execution_count": null,
   "metadata": {},
   "outputs": [],
   "source": [
    "kmodel = torch.load(\"/media/SSD/superres/checkpoint/BLUR_SHUFFLE1_epoch_18.pth\")[\"model\"]"
   ]
  },
  {
   "cell_type": "code",
   "execution_count": null,
   "metadata": {},
   "outputs": [],
   "source": [
    "kmodel.cuda()\n",
    "kmodel.eval()"
   ]
  },
  {
   "cell_type": "code",
   "execution_count": null,
   "metadata": {},
   "outputs": [],
   "source": [
    "class Combine_Nets(nn.Module):\n",
    "    def __init__(self, model, kmodel):\n",
    "        super(Combine_Nets, self).__init__()   \n",
    "        \n",
    "        \n",
    "        self.model = model\n",
    "        self.kmodel = kmodel\n",
    "        \n",
    "        \n",
    "\n",
    "    def forward(self, x0, xm1, xp1):    \n",
    "        \n",
    "       \n",
    "        k = self.kmodel(x0)\n",
    "        #k=k*0+6.0\n",
    "        x = self.model(x0, xm1, xp1,k)\n",
    "        \n",
    "        return x,k"
   ]
  },
  {
   "cell_type": "code",
   "execution_count": null,
   "metadata": {},
   "outputs": [],
   "source": [
    "mcombine = Combine_Nets(model,kmodel)"
   ]
  },
  {
   "cell_type": "code",
   "execution_count": null,
   "metadata": {},
   "outputs": [],
   "source": [
    "from superres_utils import decolorize_cv, colorize_cv, cv_center_crop\n",
    "def superres_image2(img_cv,model,factor=1.0,center_crop=None):\n",
    "\n",
    "\n",
    "    \n",
    "\n",
    "    if center_crop is None:\n",
    "        width  = img_cv.shape[1]\n",
    "        height = img_cv.shape[0]\n",
    "        \n",
    "    else:\n",
    "        width,height = center_crop\n",
    "    \n",
    "    \n",
    "    success_flag = False\n",
    "    \n",
    "    print(\"Original:\")\n",
    "    print(\"width=\",width,\"\\nheight=\",height)\n",
    "    \n",
    "    \n",
    "\n",
    "    new_height = int(height*factor)\n",
    "    new_width = int(width*factor)\n",
    "    \n",
    "    print(\"\\nProcessed:\")\n",
    "    print(\"factor:\",factor,\"\\nwidth=\",new_width, \"\\nheight=\",new_height)\n",
    "    \n",
    "   \n",
    "            \n",
    "    #crop img_cv if needed\n",
    "    if center_crop is not None:\n",
    "        img_cv = cv_center_crop(img_cv,(height,width))\n",
    "\n",
    "    if (factor != 1.0):\n",
    "        img_cv = cv2.resize(img_cv, (new_width, new_height), interpolation=cv2.INTER_LANCZOS4)\n",
    "\n",
    "    im_input = cv2_to_batch_tensor(img_cv)\n",
    "\n",
    "\n",
    "    im_input = im_input.cuda()\n",
    "\n",
    "\n",
    "    with torch.no_grad():\n",
    "        with autocast():\n",
    "            mout = model(im_input, im_input, im_input)  \n",
    "\n",
    "                \n",
    "    out=mout[0].cpu()\n",
    "\n",
    "\n",
    "\n",
    "    im_h = batch_tensor_to_cv2(out)\n",
    "    \n",
    "    print(\"k=\",mout[1].item())\n",
    "    \n",
    "\n",
    "    return im_h\n",
    "\n",
    "\n",
    "\n"
   ]
  },
  {
   "cell_type": "code",
   "execution_count": null,
   "metadata": {},
   "outputs": [],
   "source": []
  },
  {
   "cell_type": "code",
   "execution_count": null,
   "metadata": {},
   "outputs": [],
   "source": [
    "path = \"/media/SSD/samba/users/Julie1200dpi8bit001.jpg\""
   ]
  },
  {
   "cell_type": "code",
   "execution_count": null,
   "metadata": {},
   "outputs": [],
   "source": [
    "\n",
    "img = cv2.imread(path)\n",
    "# convert to PIL RGB\n",
    "img = cv2.fastNlMeansDenoisingColored(img,None,15,10,7,21)\n",
    "\n",
    "    "
   ]
  },
  {
   "cell_type": "code",
   "execution_count": null,
   "metadata": {},
   "outputs": [],
   "source": [
    "im_rgb = cv2.cvtColor(img, cv2.COLOR_BGR2RGB)"
   ]
  },
  {
   "cell_type": "code",
   "execution_count": null,
   "metadata": {},
   "outputs": [],
   "source": [
    "im_rgb.shape[0], im_rgb.shape[1]"
   ]
  },
  {
   "cell_type": "code",
   "execution_count": null,
   "metadata": {},
   "outputs": [],
   "source": [
    "im_rgb = cv_center_crop(im_rgb,(3200,4000))"
   ]
  },
  {
   "cell_type": "code",
   "execution_count": null,
   "metadata": {},
   "outputs": [],
   "source": [
    "fact=.5"
   ]
  },
  {
   "cell_type": "code",
   "execution_count": null,
   "metadata": {},
   "outputs": [],
   "source": [
    "im_rgb = cv2.resize(im_rgb, (int(4000*fact),int(3200*fact)), interpolation=cv2.INTER_LANCZOS4)"
   ]
  },
  {
   "cell_type": "code",
   "execution_count": null,
   "metadata": {},
   "outputs": [],
   "source": [
    "res_image = superres_image2(img_cv=im_rgb,model=mcombine,factor=1,center_crop=None)"
   ]
  },
  {
   "cell_type": "code",
   "execution_count": null,
   "metadata": {},
   "outputs": [],
   "source": [
    "plt.imshow(res_image)\n",
    "plt.title('my picture')\n",
    "plt.show()"
   ]
  },
  {
   "cell_type": "code",
   "execution_count": null,
   "metadata": {},
   "outputs": [],
   "source": [
    "cv2.imwrite(\"/media/SSD/samba/users/Julie1200dpi8bit001_scaled_enhanced.jpg\", cv2.cvtColor(res_image, cv2.COLOR_BGR2RGB))"
   ]
  },
  {
   "cell_type": "code",
   "execution_count": null,
   "metadata": {},
   "outputs": [],
   "source": [
    "cv2.imwrite(\"/media/SSD/samba/users/Julie1200dpi8bit001_scaled.jpg\", cv2.cvtColor(im_rgb, cv2.COLOR_BGR2RGB))"
   ]
  },
  {
   "cell_type": "code",
   "execution_count": null,
   "metadata": {},
   "outputs": [],
   "source": []
  },
  {
   "cell_type": "code",
   "execution_count": null,
   "metadata": {},
   "outputs": [],
   "source": []
  }
 ],
 "metadata": {
  "kernelspec": {
   "display_name": "Python 3",
   "language": "python",
   "name": "python3"
  },
  "language_info": {
   "codemirror_mode": {
    "name": "ipython",
    "version": 3
   },
   "file_extension": ".py",
   "mimetype": "text/x-python",
   "name": "python",
   "nbconvert_exporter": "python",
   "pygments_lexer": "ipython3",
   "version": "3.8.3"
  }
 },
 "nbformat": 4,
 "nbformat_minor": 2
}
