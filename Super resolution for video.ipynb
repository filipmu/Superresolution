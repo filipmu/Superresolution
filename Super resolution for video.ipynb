{
 "cells": [
  {
   "cell_type": "markdown",
   "metadata": {},
   "source": [
    "# Apply AI Superresolution to video\n",
    "\n",
    "Point it at a folder and it will apply opencv undistort to all the videos in the folder and create a new video file. It will copy the sound track over to the new video as well using ffmpeg.  It then moves the original source video file to another folder to indicate it is done. This allows interruption and restarting.  Progress bars for each video.  Options to crop to a rectangle or keep all converted pixels.  Option to display the video as its processing.  Can adjust the bitrate and have the output of ffmpeg go to a defined file.\n",
    "\n",
    " "
   ]
  },
  {
   "cell_type": "code",
   "execution_count": null,
   "metadata": {},
   "outputs": [],
   "source": [
    "# preprocess video from wmv to mp4"
   ]
  },
  {
   "cell_type": "code",
   "execution_count": null,
   "metadata": {},
   "outputs": [],
   "source": [
    "#!ffmpeg -i '/home/filip/Videos/1987 first video making muffins.wmv'  -c:v libx264 -crf 23 -c:a aac -strict -2 -q:a 100 '/media/SSD/superres/1987 first video making muffins.mp4'"
   ]
  },
  {
   "cell_type": "code",
   "execution_count": null,
   "metadata": {},
   "outputs": [],
   "source": [
    "#!python /media/SSD/superres/Zooming-Slow-Mo-CVPR-2020/codes/video_to_zsm.py --video /media/SSD/superres/snip.mp4  --model /media/SSD/superres/model/xiang2020zooming.pth --output /media/SSD/superres/muffins_test.mp4\n"
   ]
  },
  {
   "cell_type": "code",
   "execution_count": 1,
   "metadata": {},
   "outputs": [
    {
     "name": "stdout",
     "output_type": "stream",
     "text": [
      "/media/SSD/superres\r\n"
     ]
    }
   ],
   "source": [
    "!pwd"
   ]
  },
  {
   "cell_type": "markdown",
   "metadata": {},
   "source": [
    "To deinterlace\n",
    "https://video.stackexchange.com/questions/17396/how-to-deinterlacing-with-ffmpeg\n",
    "https://macilatthefront.blogspot.com/2017/04/deinterlacing-hd-footage-without-losing.html\n"
   ]
  },
  {
   "cell_type": "code",
   "execution_count": 2,
   "metadata": {},
   "outputs": [],
   "source": [
    "\n",
    "#%reload_ext autoreload\n",
    "#%autoreload 2\n",
    "#%matplotlib inline\n",
    "\n",
    "\n",
    "import cv2 \n",
    "import os\n",
    "import numpy as np\n",
    "import subprocess as sp\n",
    "import time\n",
    "from tqdm import tqdm, trange\n",
    "from pathlib import Path\n",
    "import torch\n",
    "from torch.autograd import Variable\n",
    "\n",
    "import sys\n",
    "sys.path.insert(0, '/media/SSD/superres/pytorch-vdsr/')\n",
    "import vdsr"
   ]
  },
  {
   "cell_type": "code",
   "execution_count": 4,
   "metadata": {},
   "outputs": [],
   "source": [
    "sys.path.insert(0, '/media/SSD/superres/EDSR-PyTorch/src/')\n",
    "\n",
    "import utility\n",
    "from data import common\n"
   ]
  },
  {
   "cell_type": "code",
   "execution_count": null,
   "metadata": {},
   "outputs": [],
   "source": []
  },
  {
   "cell_type": "markdown",
   "metadata": {},
   "source": [
    "Function that takes in a .mp4 video file and applies intrinsic matrix and distortion coefficients to undistort a video.  It also preserves the sound. it uses ffmpeg for some processing as well as opencv cv2 library."
   ]
  },
  {
   "cell_type": "code",
   "execution_count": 3,
   "metadata": {},
   "outputs": [],
   "source": [
    "# Define the colorization function\n",
    "# We'll reuse the Cb and Cr channels from bicubic interpolation\n",
    "def colorize(y, ycbcr): \n",
    "    img = np.zeros((y.shape[0], y.shape[1], 3), np.uint8)\n",
    "    img[:,:,0] = y\n",
    "    img[:,:,1] = ycbcr[:,:,1]\n",
    "    img[:,:,2] = ycbcr[:,:,2]\n",
    "    img = cv2.cvtColor(img, cv2.COLOR_YCrCb2BGR)\n",
    "    return img"
   ]
  },
  {
   "cell_type": "code",
   "execution_count": 9,
   "metadata": {},
   "outputs": [],
   "source": [
    "def superres_mp4(infile, outfile, model, factor=1.0,display=True,bitrate= \"12000k\",errorfile = None):\n",
    "    \n",
    "    model = model.cuda()\n",
    "    #torch.set_grad_enabled(False)\n",
    "    #model.eval()\n",
    "    \n",
    "    cap = cv2.VideoCapture(str(infile))\n",
    "    \n",
    "    length = int(cap.get(cv2.CAP_PROP_FRAME_COUNT))\n",
    "    width  = int(cap.get(cv2.CAP_PROP_FRAME_WIDTH))\n",
    "    height = int(cap.get(cv2.CAP_PROP_FRAME_HEIGHT))\n",
    "    fps    = cap.get(cv2.CAP_PROP_FPS)\n",
    "    \n",
    "    success_flag = False\n",
    "    \n",
    "    print(\"Original File:\", str(infile))\n",
    "    print(\"frames=\",length,\"\\nwidth=\",width,\"\\nheight=\",height,\"\\nfps=\",fps)\n",
    "    \n",
    "    \n",
    "\n",
    "    new_height = int(height*factor)\n",
    "    new_width = int(width*factor)\n",
    "    \n",
    "    print(\"\\nProcess File:\", str(outfile))\n",
    "    print(\"factor:\",factor,\"\\nwidth=\",new_width, \"\\nheight=\",new_height,\"\\nbitrate=\",bitrate)\n",
    "    \n",
    "    \n",
    "\n",
    "    dimension = '{}x{}'.format(new_width, new_height)  #ffmpeg uses bicubic as default scaling alg\n",
    "    f_format = 'bgr24' # remember OpenCV uses bgr format\n",
    "\n",
    "\n",
    "\n",
    "\n",
    "    command = ['ffmpeg',\n",
    "            '-y',\n",
    "            '-f', 'rawvideo',\n",
    "            '-vcodec','rawvideo',\n",
    "            '-s', dimension,\n",
    "            '-pix_fmt', 'bgr24',\n",
    "            '-r', str(fps),\n",
    "            '-i', '-',\n",
    "            '-i', str(infile),\n",
    "            '-c:v', 'h264',\n",
    "            '-c:a', 'aac',\n",
    "\n",
    "            '-map','0:v:0',\n",
    "            '-map','1:a:0',\n",
    "            '-shortest',\n",
    "            '-b:v', bitrate, \n",
    "            str(outfile) ]\n",
    "\n",
    "\n",
    "    if errorfile is not None:\n",
    "        ef = open(error_file,\"w+\")\n",
    "        p = sp.Popen(command, stdin=sp.PIPE, stderr=ef)\n",
    "    else:\n",
    "        p = sp.Popen(command, stdin=sp.PIPE)\n",
    "\n",
    "    # Full processing with a stream instead of a temp file for video\n",
    "    pbar = tqdm(total=length)\n",
    "    while(cap.isOpened()):\n",
    "\n",
    "\n",
    "\n",
    "\n",
    "        # Capture frame-by-frame\n",
    "        ret, frame = cap.read()\n",
    "        if ret == True:\n",
    "            \n",
    "            if (factor != 1.0):\n",
    "                frame = cv2.resize(frame, (new_width, new_height), interpolation=cv2.INTER_CUBIC)\n",
    "            im_b_ycbcr = cv2.cvtColor(frame, cv2.COLOR_BGR2YCR_CB)\n",
    "            im_b_y = im_b_ycbcr[:,:,0].astype(float)\n",
    "            im_input = im_b_y/255.\n",
    "            im_input = Variable(torch.from_numpy(im_input).float()).view(1, -1, im_input.shape[0], im_input.shape[1])\n",
    "            im_input = im_input.cuda()\n",
    "            out = model(im_input)\n",
    "\n",
    "            out = out.cpu()\n",
    "            im_h_y = out.data[0].numpy().astype(np.float32)\n",
    "            im_h_y = im_h_y * 255.\n",
    "            im_h_y[im_h_y < 0] = 0\n",
    "            im_h_y[im_h_y > 255.] = 255.\n",
    "            im_h_y = im_h_y[0,:,:]\n",
    "\n",
    "            im_h = colorize(im_h_y, im_b_ycbcr)\n",
    "            \n",
    "                \n",
    "\n",
    "            p.stdin.write(im_h.tobytes())\n",
    "\n",
    "\n",
    "            if display:\n",
    "                cv2.imshow('Processed',im_h)\n",
    "                time.sleep(10)\n",
    "                #cv2.imshow('Orig',frame)\n",
    "            pbar.update(1)\n",
    "            # Press Q on keyboard to  exit\n",
    "            if cv2.waitKey(25) & 0xFF == ord('q'):\n",
    "                success_flag = False\n",
    "                break\n",
    "        # Break the loop\n",
    "        else:\n",
    "            success_flag = True\n",
    "            break\n",
    "    # When everything done, release the video capture object\n",
    "\n",
    "    pbar.close()\n",
    "\n",
    "    p.stdin.close()\n",
    "    p.wait()\n",
    "\n",
    "    cap.release()\n",
    "\n",
    "    # Closes all the frames\n",
    "    cv2.destroyAllWindows()\n",
    "    \n",
    "    return success_flag"
   ]
  },
  {
   "cell_type": "code",
   "execution_count": 15,
   "metadata": {},
   "outputs": [],
   "source": [
    "infile = \"/media/SSD/superres/super8/super8_best_from_mp2.mp4\"\n",
    "outfile = \"/media/SSD/superres/super8test.mp4\"\n",
    "error_file = \"/media/SSD/superres/error.txt\""
   ]
  },
  {
   "cell_type": "code",
   "execution_count": 6,
   "metadata": {
    "scrolled": true
   },
   "outputs": [
    {
     "name": "stderr",
     "output_type": "stream",
     "text": [
      "/media/SSD/conda_env/superres/lib/python3.8/site-packages/torch/serialization.py:657: SourceChangeWarning: source code of class 'torch.nn.modules.container.Sequential' has changed. you can retrieve the original source code by accessing the object's source attribute or set `torch.nn.Module.dump_patches = True` and use the patch tool to revert the changes.\n",
      "  warnings.warn(msg, SourceChangeWarning)\n",
      "/media/SSD/conda_env/superres/lib/python3.8/site-packages/torch/serialization.py:657: SourceChangeWarning: source code of class 'torch.nn.modules.conv.Conv2d' has changed. you can retrieve the original source code by accessing the object's source attribute or set `torch.nn.Module.dump_patches = True` and use the patch tool to revert the changes.\n",
      "  warnings.warn(msg, SourceChangeWarning)\n",
      "/media/SSD/conda_env/superres/lib/python3.8/site-packages/torch/serialization.py:657: SourceChangeWarning: source code of class 'torch.nn.modules.activation.ReLU' has changed. you can retrieve the original source code by accessing the object's source attribute or set `torch.nn.Module.dump_patches = True` and use the patch tool to revert the changes.\n",
      "  warnings.warn(msg, SourceChangeWarning)\n"
     ]
    }
   ],
   "source": [
    "# Load the pretrained model\n",
    "\n",
    "model = torch.load(\"/media/SSD/superres/pytorch-vdsr/model/model_epoch_50.pth\")[\"model\"]"
   ]
  },
  {
   "cell_type": "code",
   "execution_count": 16,
   "metadata": {},
   "outputs": [
    {
     "name": "stderr",
     "output_type": "stream",
     "text": [
      "  0%|          | 1/7195 [00:00<16:30,  7.26it/s]"
     ]
    },
    {
     "name": "stdout",
     "output_type": "stream",
     "text": [
      "Original File: /media/SSD/superres/super8/super8_best_from_mp2.mp4\n",
      "frames= 7195 \n",
      "width= 720 \n",
      "height= 480 \n",
      "fps= 59.94005994005994\n",
      "\n",
      "Process File: /media/SSD/superres/super8test.mp4\n",
      "factor: 1.0 \n",
      "width= 720 \n",
      "height= 480 \n",
      "bitrate= 4000k\n"
     ]
    },
    {
     "name": "stderr",
     "output_type": "stream",
     "text": [
      "100%|██████████| 7195/7195 [09:35<00:00, 12.50it/s]\n"
     ]
    },
    {
     "data": {
      "text/plain": [
       "True"
      ]
     },
     "execution_count": 16,
     "metadata": {},
     "output_type": "execute_result"
    }
   ],
   "source": [
    "superres_mp4(infile, outfile, model, factor=1.0,display=False,bitrate= \"4000k\",errorfile = error_file)"
   ]
  },
  {
   "cell_type": "code",
   "execution_count": 22,
   "metadata": {},
   "outputs": [],
   "source": [
    "from multiprocessing.pool import ThreadPool\n",
    "from collections import deque\n",
    "\n",
    "\n",
    "def superres_parallel_mp4(infile, outfile, model, factor=1.0,display=True,bitrate= \"12000k\",errorfile = None):\n",
    "\n",
    "    class DummyTask:\n",
    "        def __init__(self, data):\n",
    "            self.data = data\n",
    "        def ready(self):\n",
    "            return True\n",
    "        def get(self):\n",
    "            return self.data\n",
    "\n",
    "\n",
    "\n",
    "\n",
    "\n",
    "    \n",
    "    \n",
    "    model = model.cpu()\n",
    "    #torch.set_grad_enabled(False)\n",
    "    #model.eval()\n",
    "    \n",
    "    cap = cv2.VideoCapture(str(infile))\n",
    "    \n",
    "    length = int(cap.get(cv2.CAP_PROP_FRAME_COUNT))\n",
    "    width  = int(cap.get(cv2.CAP_PROP_FRAME_WIDTH))\n",
    "    height = int(cap.get(cv2.CAP_PROP_FRAME_HEIGHT))\n",
    "    fps    = cap.get(cv2.CAP_PROP_FPS)\n",
    "    \n",
    "    success_flag = False\n",
    "    \n",
    "    print(\"Original File:\", str(infile))\n",
    "    print(\"frames=\",length,\"\\nwidth=\",width,\"\\nheight=\",height,\"\\nfps=\",fps)\n",
    "    \n",
    "    \n",
    "\n",
    "    new_height = int(height*factor)\n",
    "    new_width = int(width*factor)\n",
    "    \n",
    "    print(\"\\nProcess File:\", str(outfile))\n",
    "    print(\"factor:\",factor,\"\\nwidth=\",new_width, \"\\nheight=\",new_height,\"\\nbitrate=\",bitrate)\n",
    "    \n",
    "    \n",
    "\n",
    "    dimension = '{}x{}'.format(new_width, new_height)  #ffmpeg uses bicubic as default scaling alg\n",
    "    f_format = 'bgr24' # remember OpenCV uses bgr format\n",
    "\n",
    "\n",
    "\n",
    "\n",
    "    command = ['ffmpeg',\n",
    "            '-y',\n",
    "            '-f', 'rawvideo',\n",
    "            '-vcodec','rawvideo',\n",
    "            '-s', dimension,\n",
    "            '-pix_fmt', 'bgr24',\n",
    "            '-r', str(fps),\n",
    "            '-i', '-',\n",
    "            '-i', str(infile),\n",
    "            '-c:v', 'h264',\n",
    "            '-c:a', 'aac',\n",
    "\n",
    "            '-map','0:v:0',\n",
    "            '-map','1:a:0',\n",
    "            '-shortest',\n",
    "            '-b:v', bitrate, \n",
    "            str(outfile) ]\n",
    "\n",
    "\n",
    "    if errorfile is not None:\n",
    "        ef = open(error_file,\"w+\")\n",
    "        p = sp.Popen(command, stdin=sp.PIPE, stderr=ef)\n",
    "    else:\n",
    "        p = sp.Popen(command, stdin=sp.PIPE)   \n",
    "    \n",
    "    \n",
    " \n",
    "    def process_frame(frame, t0):\n",
    "        \n",
    "        if (factor != 1.0):\n",
    "            frame = cv2.resize(frame, (new_width, new_height), interpolation=cv2.INTER_CUBIC)\n",
    "        im_b_ycbcr = cv2.cvtColor(frame, cv2.COLOR_BGR2YCR_CB)\n",
    "        im_b_y = im_b_ycbcr[:,:,0].astype(float)\n",
    "        im_input = im_b_y/255.\n",
    "        im_input = Variable(torch.from_numpy(im_input).float()).view(1, -1, im_input.shape[0], im_input.shape[1])\n",
    "        #im_input = im_input.cuda()\n",
    "        out = model(im_input)\n",
    "\n",
    "        #out = out.cpu()\n",
    "        im_h_y = out.data[0].numpy().astype(np.float32)\n",
    "        im_h_y = im_h_y * 255.\n",
    "        im_h_y[im_h_y < 0] = 0\n",
    "        im_h_y[im_h_y > 255.] = 255.\n",
    "        im_h_y = im_h_y[0,:,:]\n",
    "\n",
    "        im_h = colorize(im_h_y, im_b_ycbcr)        \n",
    "        \n",
    "        \n",
    "        return im_h, t0\n",
    "\n",
    "    \n",
    "    \n",
    "    \n",
    "    threadn = cv2.getNumberOfCPUs()\n",
    "    pool = ThreadPool(processes = threadn)\n",
    "    pending = deque()\n",
    "\n",
    "    threaded_mode = True\n",
    "\n",
    "    \n",
    "    while True:\n",
    "        while len(pending) > 0 and pending[0].ready():\n",
    "            res, t0 = pending.popleft().get()\n",
    "            p.stdin.write(res.tobytes())\n",
    "            \n",
    "            \n",
    "            cv2.imshow('threaded video', res)\n",
    "        if len(pending) < threadn:\n",
    "            _ret, frame = cap.read()\n",
    "            t = 0\n",
    "            \n",
    "            last_frame_time = t\n",
    "            if threaded_mode:\n",
    "                task = pool.apply_async(process_frame, (frame.copy(), t))\n",
    "            else:\n",
    "                task = DummyTask(process_frame(frame, t))\n",
    "            pending.append(task)\n",
    "        ch = cv2.waitKey(1)\n",
    "        if ch == ord(' '):\n",
    "            threaded_mode = not threaded_mode\n",
    "        if ch == 27:\n",
    "            break\n",
    "\n",
    "    print('Done')\n",
    "    \n",
    "    p.stdin.close()\n",
    "    p.wait()\n",
    "\n",
    "    cap.release()\n",
    "\n",
    "    # Closes all the frames\n",
    "    cv2.destroyAllWindows()\n",
    "\n"
   ]
  },
  {
   "cell_type": "code",
   "execution_count": null,
   "metadata": {},
   "outputs": [
    {
     "name": "stdout",
     "output_type": "stream",
     "text": [
      "Original File: /media/SSD/superres/sup8snip.mp4\n",
      "frames= 1797 \n",
      "width= 720 \n",
      "height= 480 \n",
      "fps= 29.97002997002997\n",
      "\n",
      "Process File: /media/SSD/superres/super8test.mp4\n",
      "factor: 1.0 \n",
      "width= 720 \n",
      "height= 480 \n",
      "bitrate= 4000k\n"
     ]
    }
   ],
   "source": [
    "superres_parallel_mp4(infile, outfile, model, factor=1.0,display=False,bitrate= \"4000k\",errorfile = error_file)"
   ]
  },
  {
   "cell_type": "code",
   "execution_count": 17,
   "metadata": {},
   "outputs": [
    {
     "data": {
      "text/plain": [
       "Net(\n",
       "  (residual_layer): Sequential(\n",
       "    (0): Conv_ReLU_Block(\n",
       "      (conv): Conv2d(64, 64, kernel_size=(3, 3), stride=(1, 1), padding=(1, 1), bias=False)\n",
       "      (relu): ReLU(inplace=True)\n",
       "    )\n",
       "    (1): Conv_ReLU_Block(\n",
       "      (conv): Conv2d(64, 64, kernel_size=(3, 3), stride=(1, 1), padding=(1, 1), bias=False)\n",
       "      (relu): ReLU(inplace=True)\n",
       "    )\n",
       "    (2): Conv_ReLU_Block(\n",
       "      (conv): Conv2d(64, 64, kernel_size=(3, 3), stride=(1, 1), padding=(1, 1), bias=False)\n",
       "      (relu): ReLU(inplace=True)\n",
       "    )\n",
       "    (3): Conv_ReLU_Block(\n",
       "      (conv): Conv2d(64, 64, kernel_size=(3, 3), stride=(1, 1), padding=(1, 1), bias=False)\n",
       "      (relu): ReLU(inplace=True)\n",
       "    )\n",
       "    (4): Conv_ReLU_Block(\n",
       "      (conv): Conv2d(64, 64, kernel_size=(3, 3), stride=(1, 1), padding=(1, 1), bias=False)\n",
       "      (relu): ReLU(inplace=True)\n",
       "    )\n",
       "    (5): Conv_ReLU_Block(\n",
       "      (conv): Conv2d(64, 64, kernel_size=(3, 3), stride=(1, 1), padding=(1, 1), bias=False)\n",
       "      (relu): ReLU(inplace=True)\n",
       "    )\n",
       "    (6): Conv_ReLU_Block(\n",
       "      (conv): Conv2d(64, 64, kernel_size=(3, 3), stride=(1, 1), padding=(1, 1), bias=False)\n",
       "      (relu): ReLU(inplace=True)\n",
       "    )\n",
       "    (7): Conv_ReLU_Block(\n",
       "      (conv): Conv2d(64, 64, kernel_size=(3, 3), stride=(1, 1), padding=(1, 1), bias=False)\n",
       "      (relu): ReLU(inplace=True)\n",
       "    )\n",
       "    (8): Conv_ReLU_Block(\n",
       "      (conv): Conv2d(64, 64, kernel_size=(3, 3), stride=(1, 1), padding=(1, 1), bias=False)\n",
       "      (relu): ReLU(inplace=True)\n",
       "    )\n",
       "    (9): Conv_ReLU_Block(\n",
       "      (conv): Conv2d(64, 64, kernel_size=(3, 3), stride=(1, 1), padding=(1, 1), bias=False)\n",
       "      (relu): ReLU(inplace=True)\n",
       "    )\n",
       "    (10): Conv_ReLU_Block(\n",
       "      (conv): Conv2d(64, 64, kernel_size=(3, 3), stride=(1, 1), padding=(1, 1), bias=False)\n",
       "      (relu): ReLU(inplace=True)\n",
       "    )\n",
       "    (11): Conv_ReLU_Block(\n",
       "      (conv): Conv2d(64, 64, kernel_size=(3, 3), stride=(1, 1), padding=(1, 1), bias=False)\n",
       "      (relu): ReLU(inplace=True)\n",
       "    )\n",
       "    (12): Conv_ReLU_Block(\n",
       "      (conv): Conv2d(64, 64, kernel_size=(3, 3), stride=(1, 1), padding=(1, 1), bias=False)\n",
       "      (relu): ReLU(inplace=True)\n",
       "    )\n",
       "    (13): Conv_ReLU_Block(\n",
       "      (conv): Conv2d(64, 64, kernel_size=(3, 3), stride=(1, 1), padding=(1, 1), bias=False)\n",
       "      (relu): ReLU(inplace=True)\n",
       "    )\n",
       "    (14): Conv_ReLU_Block(\n",
       "      (conv): Conv2d(64, 64, kernel_size=(3, 3), stride=(1, 1), padding=(1, 1), bias=False)\n",
       "      (relu): ReLU(inplace=True)\n",
       "    )\n",
       "    (15): Conv_ReLU_Block(\n",
       "      (conv): Conv2d(64, 64, kernel_size=(3, 3), stride=(1, 1), padding=(1, 1), bias=False)\n",
       "      (relu): ReLU(inplace=True)\n",
       "    )\n",
       "    (16): Conv_ReLU_Block(\n",
       "      (conv): Conv2d(64, 64, kernel_size=(3, 3), stride=(1, 1), padding=(1, 1), bias=False)\n",
       "      (relu): ReLU(inplace=True)\n",
       "    )\n",
       "    (17): Conv_ReLU_Block(\n",
       "      (conv): Conv2d(64, 64, kernel_size=(3, 3), stride=(1, 1), padding=(1, 1), bias=False)\n",
       "      (relu): ReLU(inplace=True)\n",
       "    )\n",
       "  )\n",
       "  (input): Conv2d(1, 64, kernel_size=(3, 3), stride=(1, 1), padding=(1, 1), bias=False)\n",
       "  (output): Conv2d(64, 1, kernel_size=(3, 3), stride=(1, 1), padding=(1, 1), bias=False)\n",
       "  (relu): ReLU(inplace=True)\n",
       ")"
      ]
     },
     "execution_count": 17,
     "metadata": {},
     "output_type": "execute_result"
    }
   ],
   "source": [
    "model"
   ]
  },
  {
   "cell_type": "code",
   "execution_count": null,
   "metadata": {},
   "outputs": [],
   "source": []
  },
  {
   "cell_type": "code",
   "execution_count": null,
   "metadata": {},
   "outputs": [],
   "source": []
  },
  {
   "cell_type": "code",
   "execution_count": null,
   "metadata": {},
   "outputs": [],
   "source": []
  },
  {
   "cell_type": "code",
   "execution_count": null,
   "metadata": {},
   "outputs": [],
   "source": []
  },
  {
   "cell_type": "code",
   "execution_count": null,
   "metadata": {},
   "outputs": [],
   "source": [
    "infolder = Path(\"to_do_videos\")\n",
    "outfolder = Path(\"undistorted_videos\")\n",
    "completefolder = Path(\"raw_videos\")\n",
    "\n",
    "outfolder.mkdir(exist_ok=True)\n",
    "completefolder.mkdir(exist_ok=True)\n"
   ]
  },
  {
   "cell_type": "code",
   "execution_count": null,
   "metadata": {},
   "outputs": [],
   "source": []
  },
  {
   "cell_type": "code",
   "execution_count": null,
   "metadata": {},
   "outputs": [],
   "source": [
    "for filename in infolder.iterdir():\n",
    "    \n",
    "\n",
    "    undistort_outfile = outfolder/(\"undistort\"+filename.name)\n",
    "    \n",
    "    retval = undistort_mp4(infile=filename, outfile=undistort_outfile,\n",
    "                           intrinsic_matrix=im, distortion_coefficients=dc,\n",
    "                           crop=True,display=False,bitrate= \"12000k\",errorfile = None)   \n",
    "    \n",
    "    if retval:\n",
    "        #move the source file if successful\n",
    "        completefile = completefolder/filename.name\n",
    "        filename.rename(completefile)"
   ]
  }
 ],
 "metadata": {
  "kernelspec": {
   "display_name": "Python 3",
   "language": "python",
   "name": "python3"
  },
  "language_info": {
   "codemirror_mode": {
    "name": "ipython",
    "version": 3
   },
   "file_extension": ".py",
   "mimetype": "text/x-python",
   "name": "python",
   "nbconvert_exporter": "python",
   "pygments_lexer": "ipython3",
   "version": "3.8.3"
  }
 },
 "nbformat": 4,
 "nbformat_minor": 2
}
